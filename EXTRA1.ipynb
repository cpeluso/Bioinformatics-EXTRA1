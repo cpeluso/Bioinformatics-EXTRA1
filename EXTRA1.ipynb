{
  "nbformat": 4,
  "nbformat_minor": 0,
  "metadata": {
    "colab": {
      "name": "LAB6.ipynb",
      "provenance": [],
      "collapsed_sections": [
        "k34IXljHZvxU",
        "6hqjkNyCZ2eX"
      ]
    },
    "kernelspec": {
      "name": "python3",
      "display_name": "Python 3"
    },
    "accelerator": "GPU"
  },
  "cells": [
    {
      "cell_type": "markdown",
      "metadata": {
        "id": "k34IXljHZvxU"
      },
      "source": [
        "#### Imports and functions"
      ]
    },
    {
      "cell_type": "code",
      "metadata": {
        "id": "kdX18A4JZKvK"
      },
      "source": [
        "from keras.datasets           import mnist\n",
        "from keras.utils              import to_categorical\n",
        "from keras.models             import Sequential\n",
        "from keras.layers             import Dense, Conv2D, Flatten, GlobalAveragePooling2D\n",
        "from sklearn.model_selection  import train_test_split\n",
        "from sklearn.metrics          import accuracy_score, confusion_matrix\n",
        "from sklearn.svm              import LinearSVC\n",
        "from datetime                 import datetime\n",
        "\n",
        "import matplotlib.pyplot as plt\n",
        "import tensorflow        as tf\n",
        "import numpy             as np\n",
        "\n",
        "import requests, zipfile, io, itertools"
      ],
      "execution_count": 2,
      "outputs": []
    },
    {
      "cell_type": "code",
      "metadata": {
        "id": "QxSUwmFyZYO1"
      },
      "source": [
        "def preprocess_images(images, scale=True, standardize=True):\n",
        "  if scale == True:\n",
        "    images = np.array([scale_image(image, 24, 24) for image in images])\n",
        "  \n",
        "  if standardize == True:\n",
        "    images = (images - images.mean(axis=(0,1,2), keepdims=True)) / images.std(axis=(0,1,2), keepdims=True)\n",
        "\n",
        "  return images\n",
        "\n",
        "def scale_image(im, nR, nC):\n",
        "  nR0 = len(im)     # source number of rows \n",
        "  nC0 = len(im[0])  # source number of columns \n",
        "  return [[ im[int(nR0 * r / nR)][int(nC0 * c / nC)]  \n",
        "             for c in range(nC)] for r in range(nR)]\n",
        "\n",
        "def print_infos(predictions, y_test):\n",
        "  \n",
        "  for i in range(len(predictions)):\n",
        "    max = np.max(predictions[i])\n",
        "    predictions[i] = [0 if value != max else 1 for value in predictions[i] ]\n",
        "\n",
        "  print(\"Accuracy: \" + str(accuracy_score(y_test, predictions)))\n",
        "\n",
        "  cm = confusion_matrix(y_test.argmax(axis=1), predictions.argmax(axis=1))\n",
        "  plot_confusion_matrix(cm, [\"AC\", \"AD\", \"H\"], normalize=True, figsize=(4, 4))\n",
        "\n",
        "def plot_confusion_matrix(cm,\n",
        "                          classes,\n",
        "                          normalize=True,\n",
        "                          figsize=(7, 7),\n",
        "                          title='Confusion matrix',\n",
        "                          cmap=plt.cm.Greys):\n",
        "    \"\"\"\n",
        "    This function prints and plots the confusion matrix.\n",
        "    Normalization can be applied by setting `normalize=True`.\n",
        "    \"\"\"\n",
        "    if normalize:\n",
        "        cm = cm.astype('float') / cm.sum(axis=1)[:, np.newaxis]\n",
        "    else:\n",
        "        print('Confusion matrix without normalization')\n",
        "    plt.figure(figsize=figsize)\n",
        "    plt.imshow(cm, interpolation='nearest', cmap=cmap)\n",
        "    plt.title(title)\n",
        "    plt.colorbar()\n",
        "    tick_marks = np.arange(len(classes))\n",
        "    plt.xticks(tick_marks, classes, rotation=45)\n",
        "    plt.yticks(tick_marks, classes)\n",
        "\n",
        "    fmt = '.2f' if normalize else 'd'\n",
        "    thresh = cm.max() / 2.\n",
        "    for i, j in itertools.product(range(cm.shape[0]), range(cm.shape[1])):\n",
        "        plt.text(j, i, format(cm[i, j], fmt),\n",
        "                 horizontalalignment=\"center\",\n",
        "                 fontsize=20,\n",
        "                 color=\"white\" if cm[i, j] > thresh else \"black\")\n",
        "\n",
        "    plt.tight_layout()\n",
        "    plt.ylabel('True label')\n",
        "    plt.xlabel('Predicted label')\n",
        "    plt.grid(False)\n",
        "\n",
        "def extract_features(model, layer_index, data):\n",
        "  feature_extractor = tf.keras.Model(model.inputs, model.layers[layer_index].output)\n",
        "  return feature_extractor.predict(data)"
      ],
      "execution_count": 3,
      "outputs": []
    },
    {
      "cell_type": "markdown",
      "metadata": {
        "id": "6hqjkNyCZ2eX"
      },
      "source": [
        "### 1. Training from scratch a VGG16"
      ]
    },
    {
      "cell_type": "code",
      "metadata": {
        "id": "UbnJYWahZ9rd"
      },
      "source": [
        "r = requests.get(\"https://github.com/FrPo/crc_3_classi_64x64/blob/master/crc_3_classi.zip?raw=true\") \n",
        "\n",
        "zip_file = zipfile.ZipFile(io.BytesIO(r.content))\n",
        "zip_file.extractall()\n",
        "\n",
        "X_train = np.load(\"/content/train_X.npy\")\n",
        "Y_train = np.load(\"/content/train_Y.npy\")\n",
        "\n",
        "x_test  = np.load(\"/content/test_X.npy\")\n",
        "y_test  = np.load(\"/content/test_Y.npy\")\n",
        "\n",
        "# Splitting dataset\n",
        "x_train, x_val, y_train, y_val = train_test_split(X_train, Y_train, test_size=0.2)\n",
        "\n",
        "# Preprocessing images\n",
        "x_train = preprocess_images(x_train, scale=False)\n",
        "x_val   = preprocess_images(x_val,   scale=False)\n",
        "x_test  = preprocess_images(x_test,  scale=False)\n",
        "\n",
        "# One hot encoding\n",
        "y_train = to_categorical(y_train)\n",
        "y_val   = to_categorical(y_val)\n",
        "y_test  = to_categorical(y_test)"
      ],
      "execution_count": 4,
      "outputs": []
    },
    {
      "cell_type": "code",
      "metadata": {
        "colab": {
          "base_uri": "https://localhost:8080/"
        },
        "id": "OAYQ0di4aFLL",
        "outputId": "360a1fb8-70b9-4aad-f682-f74515c6551e"
      },
      "source": [
        "backbone = tf.keras.applications.vgg16.VGG16(weights=None, include_top=False, input_shape=(32, 32, 3))\n",
        "model    = Sequential()\n",
        "\n",
        "GlobalAveragePooling2D_1 = GlobalAveragePooling2D()\n",
        "Dense_2                  = Dense(1024, activation='relu')\n",
        "Dense_3                  = Dense(512,  activation='relu')\n",
        "Dense_4                  = Dense(3,    activation='softmax')\n",
        "\n",
        "model.add(backbone)\n",
        "model.add(GlobalAveragePooling2D_1)\n",
        "model.add(Dense_2)\n",
        "model.add(Dense_3)\n",
        "model.add(Dense_4)\n",
        "\n",
        "model.compile(optimizer = tf.keras.optimizers.Adam(0.0001), loss = \"categorical_crossentropy\", metrics = [ \"accuracy\" ] )\n",
        "\n",
        "logs = \"logs/\" + datetime.now().strftime(\"%Y%m%d-%H%M%S\")\n",
        "tboard_callback = tf.keras.callbacks.TensorBoard(log_dir = logs, histogram_freq = 1, profile_batch = '20, 30')\n",
        "\n",
        "model.fit(x_train, y_train, validation_data=(x_val, y_val), epochs=30, callbacks = [tboard_callback])"
      ],
      "execution_count": null,
      "outputs": [
        {
          "output_type": "stream",
          "text": [
            "Epoch 1/30\n",
            "  1/225 [..............................] - ETA: 6s - loss: 1.0987 - accuracy: 0.3125WARNING:tensorflow:Callbacks method `on_train_batch_end` is slow compared to the batch time (batch time: 0.0067s vs `on_train_batch_end` time: 0.0348s). Check your callbacks.\n",
            "225/225 [==============================] - 9s 39ms/step - loss: 0.5888 - accuracy: 0.7056 - val_loss: 0.4315 - val_accuracy: 0.8267\n",
            "Epoch 2/30\n",
            "225/225 [==============================] - 8s 36ms/step - loss: 0.3244 - accuracy: 0.8753 - val_loss: 0.2827 - val_accuracy: 0.8944\n",
            "Epoch 3/30\n",
            "225/225 [==============================] - 8s 36ms/step - loss: 0.2679 - accuracy: 0.9047 - val_loss: 0.2006 - val_accuracy: 0.9350\n",
            "Epoch 4/30\n",
            "225/225 [==============================] - 8s 36ms/step - loss: 0.2026 - accuracy: 0.9307 - val_loss: 0.1848 - val_accuracy: 0.9339\n",
            "Epoch 5/30\n",
            "225/225 [==============================] - 8s 36ms/step - loss: 0.1342 - accuracy: 0.9532 - val_loss: 0.1876 - val_accuracy: 0.9256\n",
            "Epoch 6/30\n",
            "225/225 [==============================] - 8s 36ms/step - loss: 0.0946 - accuracy: 0.9674 - val_loss: 0.0715 - val_accuracy: 0.9761\n",
            "Epoch 7/30\n",
            "225/225 [==============================] - 8s 36ms/step - loss: 0.1007 - accuracy: 0.9685 - val_loss: 0.1442 - val_accuracy: 0.9522\n",
            "Epoch 8/30\n",
            "225/225 [==============================] - 8s 36ms/step - loss: 0.0654 - accuracy: 0.9779 - val_loss: 0.1044 - val_accuracy: 0.9750\n",
            "Epoch 9/30\n",
            "225/225 [==============================] - 8s 36ms/step - loss: 0.0540 - accuracy: 0.9808 - val_loss: 0.0860 - val_accuracy: 0.9767\n",
            "Epoch 10/30\n",
            "225/225 [==============================] - 8s 36ms/step - loss: 0.0535 - accuracy: 0.9825 - val_loss: 0.1570 - val_accuracy: 0.9450\n",
            "Epoch 11/30\n",
            "225/225 [==============================] - 8s 36ms/step - loss: 0.0441 - accuracy: 0.9857 - val_loss: 0.0568 - val_accuracy: 0.9850\n",
            "Epoch 12/30\n",
            "225/225 [==============================] - 8s 36ms/step - loss: 0.0509 - accuracy: 0.9842 - val_loss: 0.0949 - val_accuracy: 0.9800\n",
            "Epoch 13/30\n",
            "225/225 [==============================] - 8s 36ms/step - loss: 0.0319 - accuracy: 0.9901 - val_loss: 0.0405 - val_accuracy: 0.9889\n",
            "Epoch 14/30\n",
            "225/225 [==============================] - 8s 36ms/step - loss: 0.0260 - accuracy: 0.9914 - val_loss: 0.0608 - val_accuracy: 0.9883\n",
            "Epoch 15/30\n",
            "225/225 [==============================] - 8s 36ms/step - loss: 0.0348 - accuracy: 0.9894 - val_loss: 0.0582 - val_accuracy: 0.9822\n",
            "Epoch 16/30\n",
            "225/225 [==============================] - 8s 36ms/step - loss: 0.0473 - accuracy: 0.9860 - val_loss: 0.1126 - val_accuracy: 0.9711\n",
            "Epoch 17/30\n",
            "225/225 [==============================] - 8s 37ms/step - loss: 0.0342 - accuracy: 0.9899 - val_loss: 0.2046 - val_accuracy: 0.9617\n",
            "Epoch 18/30\n",
            "225/225 [==============================] - 8s 36ms/step - loss: 0.0256 - accuracy: 0.9903 - val_loss: 0.0669 - val_accuracy: 0.9828\n",
            "Epoch 19/30\n",
            "225/225 [==============================] - 8s 36ms/step - loss: 0.0366 - accuracy: 0.9906 - val_loss: 0.0447 - val_accuracy: 0.9872\n",
            "Epoch 20/30\n",
            "225/225 [==============================] - 8s 36ms/step - loss: 0.0157 - accuracy: 0.9953 - val_loss: 0.0540 - val_accuracy: 0.9883\n",
            "Epoch 21/30\n",
            "225/225 [==============================] - 8s 36ms/step - loss: 0.0103 - accuracy: 0.9974 - val_loss: 0.0927 - val_accuracy: 0.9767\n",
            "Epoch 22/30\n",
            "225/225 [==============================] - 8s 36ms/step - loss: 0.0128 - accuracy: 0.9971 - val_loss: 0.0911 - val_accuracy: 0.9872\n",
            "Epoch 23/30\n",
            "225/225 [==============================] - 8s 36ms/step - loss: 0.0041 - accuracy: 0.9989 - val_loss: 0.0629 - val_accuracy: 0.9917\n",
            "Epoch 24/30\n",
            "225/225 [==============================] - 8s 36ms/step - loss: 0.0503 - accuracy: 0.9836 - val_loss: 0.1406 - val_accuracy: 0.9650\n",
            "Epoch 25/30\n",
            "225/225 [==============================] - 8s 36ms/step - loss: 0.0141 - accuracy: 0.9967 - val_loss: 0.0773 - val_accuracy: 0.9889\n",
            "Epoch 26/30\n",
            "225/225 [==============================] - 8s 36ms/step - loss: 0.0120 - accuracy: 0.9964 - val_loss: 0.0567 - val_accuracy: 0.9883\n",
            "Epoch 27/30\n",
            "225/225 [==============================] - 8s 36ms/step - loss: 0.0081 - accuracy: 0.9976 - val_loss: 0.0526 - val_accuracy: 0.9872\n",
            "Epoch 28/30\n",
            "225/225 [==============================] - 8s 36ms/step - loss: 0.0072 - accuracy: 0.9978 - val_loss: 0.0793 - val_accuracy: 0.9856\n",
            "Epoch 29/30\n",
            "225/225 [==============================] - 8s 36ms/step - loss: 0.0081 - accuracy: 0.9969 - val_loss: 0.0438 - val_accuracy: 0.9906\n",
            "Epoch 30/30\n",
            "225/225 [==============================] - 8s 36ms/step - loss: 0.0048 - accuracy: 0.9992 - val_loss: 0.0603 - val_accuracy: 0.9894\n"
          ],
          "name": "stdout"
        },
        {
          "output_type": "execute_result",
          "data": {
            "text/plain": [
              "<tensorflow.python.keras.callbacks.History at 0x7f0748122828>"
            ]
          },
          "metadata": {
            "tags": []
          },
          "execution_count": 7
        }
      ]
    },
    {
      "cell_type": "code",
      "metadata": {
        "colab": {
          "base_uri": "https://localhost:8080/",
          "height": 313
        },
        "id": "mHg4Wj8eaKf5",
        "outputId": "d8056e1c-c8d3-4ebf-83a3-36b54338ff88"
      },
      "source": [
        "predictions = model.predict(x_test)\n",
        "\n",
        "print_infos(predictions, y_test)"
      ],
      "execution_count": null,
      "outputs": [
        {
          "output_type": "stream",
          "text": [
            "Accuracy: 0.8988888888888888\n"
          ],
          "name": "stdout"
        },
        {
          "output_type": "display_data",
          "data": {
            "image/png": "[encoded data removed]",
            "text/plain": [
              "<Figure size 288x288 with 2 Axes>"
            ]
          },
          "metadata": {
            "tags": [],
            "needs_background": "light"
          }
        }
      ]
    },
    {
      "cell_type": "markdown",
      "metadata": {
        "id": "zn1DROS-aNgF"
      },
      "source": [
        "### 2. Load pretrained VGG16 model"
      ]
    },
    {
      "cell_type": "code",
      "metadata": {
        "colab": {
          "base_uri": "https://localhost:8080/"
        },
        "id": "TZ2lKuHaaNMS",
        "outputId": "49fd1608-c4e1-4471-f9d6-02d68d6bf9ee"
      },
      "source": [
        "backbone = tf.keras.applications.vgg16.VGG16(weights=\"imagenet\", include_top=False, input_shape=(32, 32, 3))\n",
        "model    = Sequential()\n",
        "\n",
        "GlobalAveragePooling2D_1 = GlobalAveragePooling2D()\n",
        "Dense_2                  = Dense(1024, activation='relu')\n",
        "Dense_3                  = Dense(512,  activation='relu')\n",
        "Dense_4                  = Dense(3,    activation='softmax')\n",
        "\n",
        "model.add(backbone)\n",
        "model.add(GlobalAveragePooling2D_1)\n",
        "model.add(Dense_2)\n",
        "model.add(Dense_3)\n",
        "model.add(Dense_4)\n",
        "\n",
        "model.compile(optimizer = tf.keras.optimizers.Adam(0.0001), loss = \"categorical_crossentropy\", metrics = [ \"accuracy\" ] )\n",
        "\n",
        "logs = \"logs/\" + datetime.now().strftime(\"%Y%m%d-%H%M%S\")\n",
        "tboard_callback = tf.keras.callbacks.TensorBoard(log_dir = logs, histogram_freq = 1, profile_batch = '20, 30')\n",
        "\n",
        "model.fit(x_train, y_train, validation_data=(x_val, y_val), epochs=30, callbacks = [tboard_callback])"
      ],
      "execution_count": null,
      "outputs": [
        {
          "output_type": "stream",
          "text": [
            "Epoch 1/10\n",
            "  1/225 [..............................] - ETA: 0s - loss: 1.1497 - accuracy: 0.3125WARNING:tensorflow:Callbacks method `on_train_batch_end` is slow compared to the batch time (batch time: 0.0093s vs `on_train_batch_end` time: 0.0189s). Check your callbacks.\n",
            " 29/225 [==>...........................] - ETA: 5s - loss: 0.4936 - accuracy: 0.8028WARNING:tensorflow:From /usr/local/lib/python3.6/dist-packages/tensorflow/python/ops/summary_ops_v2.py:1277: stop (from tensorflow.python.eager.profiler) is deprecated and will be removed after 2020-07-01.\n",
            "Instructions for updating:\n",
            "use `tf.profiler.experimental.stop` instead.\n",
            "225/225 [==============================] - 8s 36ms/step - loss: 0.2360 - accuracy: 0.9140 - val_loss: 0.0859 - val_accuracy: 0.9667\n",
            "Epoch 2/10\n",
            "225/225 [==============================] - 8s 34ms/step - loss: 0.0816 - accuracy: 0.9725 - val_loss: 0.1231 - val_accuracy: 0.9556\n",
            "Epoch 3/10\n",
            "225/225 [==============================] - 8s 34ms/step - loss: 0.0682 - accuracy: 0.9740 - val_loss: 0.1025 - val_accuracy: 0.9650\n",
            "Epoch 4/10\n",
            "225/225 [==============================] - 8s 34ms/step - loss: 0.0489 - accuracy: 0.9818 - val_loss: 0.0980 - val_accuracy: 0.9633\n",
            "Epoch 5/10\n",
            "225/225 [==============================] - 8s 34ms/step - loss: 0.0500 - accuracy: 0.9840 - val_loss: 0.0999 - val_accuracy: 0.9656\n",
            "Epoch 6/10\n",
            "225/225 [==============================] - 8s 34ms/step - loss: 0.0353 - accuracy: 0.9885 - val_loss: 0.1137 - val_accuracy: 0.9622\n",
            "Epoch 7/10\n",
            "225/225 [==============================] - 8s 34ms/step - loss: 0.0311 - accuracy: 0.9901 - val_loss: 0.0998 - val_accuracy: 0.9656\n",
            "Epoch 8/10\n",
            "225/225 [==============================] - 8s 34ms/step - loss: 0.0217 - accuracy: 0.9918 - val_loss: 0.1604 - val_accuracy: 0.9678\n",
            "Epoch 9/10\n",
            "225/225 [==============================] - 8s 34ms/step - loss: 0.0356 - accuracy: 0.9890 - val_loss: 0.0522 - val_accuracy: 0.9878\n",
            "Epoch 10/10\n",
            "225/225 [==============================] - 8s 34ms/step - loss: 0.0174 - accuracy: 0.9947 - val_loss: 0.0613 - val_accuracy: 0.9844\n"
          ],
          "name": "stdout"
        },
        {
          "output_type": "execute_result",
          "data": {
            "text/plain": [
              "<tensorflow.python.keras.callbacks.History at 0x7fb2c1f61cf8>"
            ]
          },
          "metadata": {
            "tags": []
          },
          "execution_count": 7
        }
      ]
    },
    {
      "cell_type": "code",
      "metadata": {
        "colab": {
          "base_uri": "https://localhost:8080/",
          "height": 313
        },
        "id": "fM4tLDULaNGt",
        "outputId": "9ecdba5e-bf89-4635-9be5-bfd35b371900"
      },
      "source": [
        "predictions = model.predict(x_test)\n",
        "\n",
        "print_infos(predictions, y_test)"
      ],
      "execution_count": null,
      "outputs": [
        {
          "output_type": "stream",
          "text": [
            "Accuracy: 0.8913333333333333\n"
          ],
          "name": "stdout"
        },
        {
          "output_type": "display_data",
          "data": {
            "image/png": "[encoded data removed]",
            "text/plain": [
              "<Figure size 288x288 with 2 Axes>"
            ]
          },
          "metadata": {
            "tags": [],
            "needs_background": "light"
          }
        }
      ]
    },
    {
      "cell_type": "markdown",
      "metadata": {
        "id": "aLM8l2tVaitv"
      },
      "source": [
        "### 3. Features extraction - Train an SVC using CNN features"
      ]
    },
    {
      "cell_type": "code",
      "metadata": {
        "id": "OsvQERz9anRK",
        "colab": {
          "base_uri": "https://localhost:8080/"
        },
        "outputId": "ee554cbe-2aac-40e9-cef7-08d1cd2ebf2d"
      },
      "source": [
        "for layer_index in range(3, len(backbone.layers)):\n",
        "\n",
        "  features_train_deep = extract_features(\n",
        "      model       = backbone, \n",
        "      layer_index = layer_index, \n",
        "      data        = x_train\n",
        "      )\n",
        "\n",
        "  features_test_deep = extract_features(\n",
        "      model       = backbone, \n",
        "      layer_index = layer_index, \n",
        "      data        = x_test\n",
        "      )\n",
        "\n",
        "  # Extract features shape\n",
        "  shape = features_train_deep.shape\n",
        "\n",
        "  # Get shapes of the flatten array (moltiplication of the all previous dimensions)\n",
        "  new_shape      = (shape[0], shape[1]*shape[2]*shape[3])\n",
        "  features_train = np.reshape(features_train_deep, new_shape)\n",
        "\n",
        "  # Extract features shape\n",
        "  shape = features_test_deep.shape\n",
        "\n",
        "  # Get shapes of the flatten array (moltiplication of the all previous dimensions)\n",
        "  new_shape     = (shape[0], shape[1]*shape[2]*shape[3])\n",
        "  features_test = np.reshape(features_test_deep, new_shape)\n",
        "\n",
        "  # Train a LinearSVC and get results on test set\n",
        "  svm = LinearSVC(max_iter=30000000)\n",
        "  svm.fit(features_train, y_train.argmax(axis=1))\n",
        "  predictions = svm.predict(features_test)\n",
        "  print(\"Layer index: \" + str(layer_index) + \". Accuracy: \" + str(accuracy_score(y_test.argmax(axis=1), predictions)))"
      ],
      "execution_count": null,
      "outputs": [
        {
          "output_type": "stream",
          "text": [
            "Layer index: 3. Accuracy: 0.7597777777777778\n",
            "Layer index: 4. Accuracy: 0.8148888888888889\n",
            "Layer index: 5. Accuracy: 0.8666666666666667\n",
            "Layer index: 6. Accuracy: 0.8895555555555555\n",
            "Layer index: 7. Accuracy: 0.9\n",
            "Layer index: 8. Accuracy: 0.9008888888888889\n",
            "Layer index: 9. Accuracy: 0.9004444444444445\n",
            "Layer index: 10. Accuracy: 0.9113333333333333\n",
            "Layer index: 11. Accuracy: 0.9144444444444444\n",
            "Layer index: 12. Accuracy: 0.9166666666666666\n",
            "Layer index: 13. Accuracy: 0.9164444444444444\n",
            "Layer index: 14. Accuracy: 0.9171111111111111\n",
            "Layer index: 15. Accuracy: 0.9148888888888889\n",
            "Layer index: 16. Accuracy: 0.9206666666666666\n",
            "Layer index: 17. Accuracy: 0.9213333333333333\n",
            "Layer index: 18. Accuracy: 0.9213333333333333\n"
          ],
          "name": "stdout"
        }
      ]
    },
    {
      "cell_type": "markdown",
      "metadata": {
        "id": "z2hv5HEsjoI2"
      },
      "source": [
        "### 4. VGG16 Fine Tuning"
      ]
    },
    {
      "cell_type": "code",
      "metadata": {
        "id": "GWc4wrmhjnjY",
        "colab": {
          "base_uri": "https://localhost:8080/"
        },
        "outputId": "98576ad2-16e1-4a41-c7e8-00434f738a8f"
      },
      "source": [
        "start_freezing_from_layer = 3\n",
        "\n",
        "backbone = tf.keras.applications.vgg16.VGG16(weights=\"imagenet\", include_top=False, input_shape=(32, 32, 3))\n",
        "\n",
        "# Allow to the last convolutional and the classification stages to train\n",
        "for layer in backbone.layers:\n",
        "  if layer.name == 'block5_conv1':\n",
        "    break\n",
        "  layer.trainable = False\n",
        "  print('Layer ' + layer.name + ' frozen.')\n",
        "\n",
        "model    = Sequential()\n",
        "\n",
        "GlobalAveragePooling2D_1 = GlobalAveragePooling2D()\n",
        "Dense_2                  = Dense(1024, activation='relu')\n",
        "Dense_3                  = Dense(512,  activation='relu')\n",
        "Dense_4                  = Dense(3,    activation='softmax')\n",
        "\n",
        "model.add(backbone)\n",
        "model.add(GlobalAveragePooling2D_1)\n",
        "model.add(Dense_2)\n",
        "model.add(Dense_3)\n",
        "model.add(Dense_4)\n",
        "\n",
        "model.compile(optimizer = tf.keras.optimizers.Adam(0.001), loss = \"categorical_crossentropy\", metrics = [ \"accuracy\" ] )\n",
        "\n",
        "logs = \"logs/\" + datetime.now().strftime(\"%Y%m%d-%H%M%S\")\n",
        "tboard_callback = tf.keras.callbacks.TensorBoard(log_dir = logs, histogram_freq = 1, profile_batch = '20, 30')\n",
        "\n",
        "model.fit(x_train, y_train, validation_data=(x_val, y_val), epochs=15, callbacks = [tboard_callback])"
      ],
      "execution_count": 5,
      "outputs": [
        {
          "output_type": "stream",
          "text": [
            "Downloading data from https://storage.googleapis.com/tensorflow/keras-applications/vgg16/vgg16_weights_tf_dim_ordering_tf_kernels_notop.h5\n",
            "58892288/58889256 [==============================] - 0s 0us/step\n",
            "Layer input_1 frozen.\n",
            "Layer block1_conv1 frozen.\n",
            "Layer block1_conv2 frozen.\n",
            "Layer block1_pool frozen.\n",
            "Layer block2_conv1 frozen.\n",
            "Layer block2_conv2 frozen.\n",
            "Layer block2_pool frozen.\n",
            "Layer block3_conv1 frozen.\n",
            "Layer block3_conv2 frozen.\n",
            "Layer block3_conv3 frozen.\n",
            "Layer block3_pool frozen.\n",
            "Layer block4_conv1 frozen.\n",
            "Layer block4_conv2 frozen.\n",
            "Layer block4_conv3 frozen.\n",
            "Layer block4_pool frozen.\n",
            "Epoch 1/15\n",
            "  1/225 [..............................] - ETA: 0s - loss: 1.1009 - accuracy: 0.5625WARNING:tensorflow:Callbacks method `on_train_batch_end` is slow compared to the batch time (batch time: 0.0078s vs `on_train_batch_end` time: 0.0119s). Check your callbacks.\n",
            " 28/225 [==>...........................] - ETA: 3s - loss: 0.6587 - accuracy: 0.7388WARNING:tensorflow:From /usr/local/lib/python3.6/dist-packages/tensorflow/python/ops/summary_ops_v2.py:1277: stop (from tensorflow.python.eager.profiler) is deprecated and will be removed after 2020-07-01.\n",
            "Instructions for updating:\n",
            "use `tf.profiler.experimental.stop` instead.\n",
            "225/225 [==============================] - 6s 25ms/step - loss: 0.2707 - accuracy: 0.9040 - val_loss: 0.1680 - val_accuracy: 0.9528\n",
            "Epoch 2/15\n",
            "225/225 [==============================] - 5s 22ms/step - loss: 0.1417 - accuracy: 0.9525 - val_loss: 0.1197 - val_accuracy: 0.9600\n",
            "Epoch 3/15\n",
            "225/225 [==============================] - 5s 22ms/step - loss: 0.0977 - accuracy: 0.9654 - val_loss: 0.1217 - val_accuracy: 0.9661\n",
            "Epoch 4/15\n",
            "225/225 [==============================] - 5s 23ms/step - loss: 0.0947 - accuracy: 0.9657 - val_loss: 0.1675 - val_accuracy: 0.9456\n",
            "Epoch 5/15\n",
            "225/225 [==============================] - 5s 23ms/step - loss: 0.0592 - accuracy: 0.9786 - val_loss: 0.1066 - val_accuracy: 0.9594\n",
            "Epoch 6/15\n",
            "225/225 [==============================] - 5s 23ms/step - loss: 0.0658 - accuracy: 0.9785 - val_loss: 0.1040 - val_accuracy: 0.9661\n",
            "Epoch 7/15\n",
            "225/225 [==============================] - 5s 23ms/step - loss: 0.0396 - accuracy: 0.9878 - val_loss: 0.1061 - val_accuracy: 0.9667\n",
            "Epoch 8/15\n",
            "225/225 [==============================] - 5s 23ms/step - loss: 0.0453 - accuracy: 0.9854 - val_loss: 0.2078 - val_accuracy: 0.9478\n",
            "Epoch 9/15\n",
            "225/225 [==============================] - 5s 23ms/step - loss: 0.0319 - accuracy: 0.9890 - val_loss: 0.1307 - val_accuracy: 0.9672\n",
            "Epoch 10/15\n",
            "225/225 [==============================] - 5s 23ms/step - loss: 0.0258 - accuracy: 0.9917 - val_loss: 0.1239 - val_accuracy: 0.9672\n",
            "Epoch 11/15\n",
            "225/225 [==============================] - 5s 23ms/step - loss: 0.0196 - accuracy: 0.9928 - val_loss: 0.1203 - val_accuracy: 0.9650\n",
            "Epoch 12/15\n",
            "225/225 [==============================] - 5s 23ms/step - loss: 0.0258 - accuracy: 0.9918 - val_loss: 0.1116 - val_accuracy: 0.9650\n",
            "Epoch 13/15\n",
            "225/225 [==============================] - 5s 23ms/step - loss: 0.0166 - accuracy: 0.9944 - val_loss: 0.1500 - val_accuracy: 0.9717\n",
            "Epoch 14/15\n",
            "225/225 [==============================] - 5s 23ms/step - loss: 0.0136 - accuracy: 0.9951 - val_loss: 0.1191 - val_accuracy: 0.9694\n",
            "Epoch 15/15\n",
            "225/225 [==============================] - 5s 23ms/step - loss: 0.0555 - accuracy: 0.9836 - val_loss: 0.1230 - val_accuracy: 0.9700\n"
          ],
          "name": "stdout"
        },
        {
          "output_type": "execute_result",
          "data": {
            "text/plain": [
              "<tensorflow.python.keras.callbacks.History at 0x7f7ed3fd9518>"
            ]
          },
          "metadata": {
            "tags": []
          },
          "execution_count": 5
        }
      ]
    },
    {
      "cell_type": "code",
      "metadata": {
        "colab": {
          "base_uri": "https://localhost:8080/",
          "height": 313
        },
        "id": "ij6e9AWwi1BH",
        "outputId": "3bf1d2d5-1487-4e71-b29f-74e3497890ad"
      },
      "source": [
        "predictions = model.predict(x_test)\n",
        "\n",
        "print_infos(predictions, y_test)"
      ],
      "execution_count": 6,
      "outputs": [
        {
          "output_type": "stream",
          "text": [
            "Accuracy: 0.9222222222222223\n"
          ],
          "name": "stdout"
        },
        {
          "output_type": "display_data",
          "data": {
            "image/png": "[encoded data removed]",
            "text/plain": [
              "<Figure size 288x288 with 2 Axes>"
            ]
          },
          "metadata": {
            "tags": [],
            "needs_background": "light"
          }
        }
      ]
    }
  ]
}
